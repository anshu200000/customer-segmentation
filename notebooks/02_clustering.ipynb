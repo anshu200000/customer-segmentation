{
 "cells": [
  {
   "cell_type": "code",
   "execution_count": 8,
   "id": "54190837",
   "metadata": {},
   "outputs": [
    {
     "name": "stdout",
     "output_type": "stream",
     "text": [
      "<class 'pandas.core.frame.DataFrame'>\n",
      "RangeIndex: 541909 entries, 0 to 541908\n",
      "Data columns (total 8 columns):\n",
      " #   Column       Non-Null Count   Dtype         \n",
      "---  ------       --------------   -----         \n",
      " 0   InvoiceNo    541909 non-null  object        \n",
      " 1   StockCode    541909 non-null  object        \n",
      " 2   Description  540455 non-null  object        \n",
      " 3   Quantity     541909 non-null  int64         \n",
      " 4   InvoiceDate  541909 non-null  datetime64[ns]\n",
      " 5   UnitPrice    541909 non-null  float64       \n",
      " 6   CustomerID   406829 non-null  float64       \n",
      " 7   Country      541909 non-null  object        \n",
      "dtypes: datetime64[ns](1), float64(2), int64(1), object(4)\n",
      "memory usage: 33.1+ MB\n"
     ]
    }
   ],
   "source": [
    "from sklearn.preprocessing import StandardScaler\n",
    "from sklearn.cluster import KMeans\n",
    "from sklearn.metrics import silhouette_score\n",
    "import matplotlib.pyplot as plt\n",
    "import pandas as pd\n",
    "\n",
    "# 1. Load RFM features\n",
    "df = pd.read_excel(\"../data/transactions.xlsx\", engine='openpyxl')  # or reuse from previous notebook\n",
    "# 2. Basic Inspection\n",
    "df.info()\n",
    "df.describe()\n",
    "df.isnull().sum()\n",
    "# 3. Data Cleaning Checks\n",
    "df['InvoiceDate'] = pd.to_datetime(df['InvoiceDate'])\n",
    "\n",
    "df = df.dropna(subset=['CustomerID'])\n",
    "\n",
    "# Remove cancelled or negative quantity orders\n",
    "df = df[df['Quantity'] > 0]\n",
    "\n",
    "# Create Amount column = Quantity * UnitPrice\n",
    "df['Amount'] = df['Quantity'] * df['UnitPrice']\n",
    "\n",
    "# Now you can filter by Amount if needed\n",
    "df = df[df['Amount'] > 0]\n",
    "\n",
    "df_clean = df[['CustomerID', 'InvoiceDate', 'Amount']].copy()\n",
    "\n",
    "# Check\n",
    "df_clean.head()\n",
    "\n",
    "# 4. RFM Feature Engineering\n",
    "ref_date = df['InvoiceDate'].max() + pd.Timedelta(days=1)\n",
    "rfm = df.groupby('CustomerID').agg({\n",
    "    'InvoiceDate': lambda x: (ref_date - x.max()).days,\n",
    "    'CustomerID': 'count',\n",
    "    'Amount': 'sum'\n",
    "}).rename(columns={'InvoiceDate':'Recency','CustomerID':'Frequency','Amount':'Monetary'})"
   ]
  },
  {
   "cell_type": "code",
   "execution_count": 9,
   "id": "fdf77ff0",
   "metadata": {},
   "outputs": [],
   "source": [
    "# 2. Scale features\n",
    "scaler = StandardScaler()\n",
    "X_scaled = scaler.fit_transform(rfm[['Recency','Frequency','Monetary']])"
   ]
  },
  {
   "cell_type": "code",
   "execution_count": 10,
   "id": "b646a342",
   "metadata": {},
   "outputs": [
    {
     "data": {
      "text/plain": [
       "Text(0.5, 1.0, 'Silhouette Score')"
      ]
     },
     "execution_count": 10,
     "metadata": {},
     "output_type": "execute_result"
    },
    {
     "data": {
      "image/png": "[encoded data removed]",
      "text/plain": [
       "<Figure size 640x480 with 1 Axes>"
      ]
     },
     "metadata": {},
     "output_type": "display_data"
    }
   ],
   "source": [
    "# 3. Find optimal clusters\n",
    "inertia = []\n",
    "silhouette = []\n",
    "for k in range(2, 8):\n",
    "    kmeans = KMeans(n_clusters=k, random_state=42, n_init=10)\n",
    "    labels = kmeans.fit_predict(X_scaled)\n",
    "    inertia.append(kmeans.inertia_)\n",
    "    silhouette.append(silhouette_score(X_scaled, labels))\n",
    "\n",
    "plt.plot(range(2,8), inertia, marker='o')\n",
    "plt.title(\"Elbow Method (Inertia)\")\n",
    "\n",
    "plt.plot(range(2,8), silhouette, marker='o')\n",
    "plt.title(\"Silhouette Score\")"
   ]
  },
  {
   "cell_type": "code",
   "execution_count": 11,
   "id": "ffdcb107",
   "metadata": {},
   "outputs": [],
   "source": [
    "# 4. Final Model\n",
    "kmeans = KMeans(n_clusters=4, random_state=42, n_init=10)\n",
    "rfm['Cluster'] = kmeans.fit_predict(X_scaled)"
   ]
  },
  {
   "cell_type": "code",
   "execution_count": 12,
   "id": "e30ef116",
   "metadata": {},
   "outputs": [
    {
     "data": {
      "text/html": [
       "<div>\n",
       "<style scoped>\n",
       "    .dataframe tbody tr th:only-of-type {\n",
       "        vertical-align: middle;\n",
       "    }\n",
       "\n",
       "    .dataframe tbody tr th {\n",
       "        vertical-align: top;\n",
       "    }\n",
       "\n",
       "    .dataframe thead th {\n",
       "        text-align: right;\n",
       "    }\n",
       "</style>\n",
       "<table border=\"1\" class=\"dataframe\">\n",
       "  <thead>\n",
       "    <tr style=\"text-align: right;\">\n",
       "      <th></th>\n",
       "      <th>Recency</th>\n",
       "      <th>Frequency</th>\n",
       "      <th>Monetary</th>\n",
       "    </tr>\n",
       "    <tr>\n",
       "      <th>Cluster</th>\n",
       "      <th></th>\n",
       "      <th></th>\n",
       "      <th></th>\n",
       "    </tr>\n",
       "  </thead>\n",
       "  <tbody>\n",
       "    <tr>\n",
       "      <th>0</th>\n",
       "      <td>41.341133</td>\n",
       "      <td>104.582512</td>\n",
       "      <td>2091.817116</td>\n",
       "    </tr>\n",
       "    <tr>\n",
       "      <th>1</th>\n",
       "      <td>2.000000</td>\n",
       "      <td>5807.000000</td>\n",
       "      <td>70925.287500</td>\n",
       "    </tr>\n",
       "    <tr>\n",
       "      <th>2</th>\n",
       "      <td>247.308333</td>\n",
       "      <td>27.787963</td>\n",
       "      <td>637.318510</td>\n",
       "    </tr>\n",
       "    <tr>\n",
       "      <th>3</th>\n",
       "      <td>7.666667</td>\n",
       "      <td>826.833333</td>\n",
       "      <td>190863.461667</td>\n",
       "    </tr>\n",
       "  </tbody>\n",
       "</table>\n",
       "</div>"
      ],
      "text/plain": [
       "            Recency    Frequency       Monetary\n",
       "Cluster                                        \n",
       "0         41.341133   104.582512    2091.817116\n",
       "1          2.000000  5807.000000   70925.287500\n",
       "2        247.308333    27.787963     637.318510\n",
       "3          7.666667   826.833333  190863.461667"
      ]
     },
     "execution_count": 12,
     "metadata": {},
     "output_type": "execute_result"
    }
   ],
   "source": [
    "# 5. Cluster Profiling\n",
    "rfm.groupby('Cluster').mean()"
   ]
  },
  {
   "cell_type": "code",
   "execution_count": null,
   "id": "f481145c",
   "metadata": {},
   "outputs": [],
   "source": []
  }
 ],
 "metadata": {
  "kernelspec": {
   "display_name": ".venv (3.8.2)",
   "language": "python",
   "name": "python3"
  },
  "language_info": {
   "codemirror_mode": {
    "name": "ipython",
    "version": 3
   },
   "file_extension": ".py",
   "mimetype": "text/x-python",
   "name": "python",
   "nbconvert_exporter": "python",
   "pygments_lexer": "ipython3",
   "version": "3.8.2"
  }
 },
 "nbformat": 4,
 "nbformat_minor": 5
}
